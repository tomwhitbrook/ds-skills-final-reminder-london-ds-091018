{
 "cells": [
  {
   "cell_type": "markdown",
   "metadata": {},
   "source": [
    "# Data Science: Final Project Reminder\n",
    "\n",
    "You have seen some preliminary API calls and json files via the Yelp API. Use this time to continue to think about your final project and attempt to craft an initial project idea. It is recommended that you start with a data source and then ask a question. (This will help ensure that you find appropriate data and are able to complete the project on time.) Remember that you are practicing a lot of new concepts and your idea does not need to be ground breaking and be the next big startup. Rather, pick something that will be of interest but also manageable and accomplishable. As a reminder, the general notes on the project are included below:\n",
    " \n",
    "\n",
    "<img src=\"final_project_rubric.png\">"
   ]
  },
  {
   "cell_type": "markdown",
   "metadata": {},
   "source": [
    "Additionally, here is a the list of supported and recommended data sources:\n",
    "\n",
    "APIs\n",
    "* Yelp\n",
    "* Open311\n",
    "* Open Movie Database\n",
    "\n",
    "'Flat-file' Data Sources\n",
    "* U.S. Census\n",
    "* UK Data Service\n",
    "* Data.Gov.UK\n",
    "* Kaggle\n",
    "* Google’s [New] Dataset Search\n",
    "* Data.gov\n",
    "* NYC Open Data\n",
    "  \n",
    "Here’s another very comprehensive list for further ideas:  \n",
    "https://github.com/awesomedata/awesome-public-datasets\n",
    "\n"
   ]
  }
 ],
 "metadata": {
  "kernelspec": {
   "display_name": "Python 3",
   "language": "python",
   "name": "python3"
  },
  "language_info": {
   "codemirror_mode": {
    "name": "ipython",
    "version": 3
   },
   "file_extension": ".py",
   "mimetype": "text/x-python",
   "name": "python",
   "nbconvert_exporter": "python",
   "pygments_lexer": "ipython3",
   "version": "3.6.6"
  }
 },
 "nbformat": 4,
 "nbformat_minor": 2
}
